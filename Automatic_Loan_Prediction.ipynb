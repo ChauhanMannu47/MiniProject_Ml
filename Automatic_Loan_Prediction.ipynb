{
  "cells": [
    {
      "cell_type": "markdown",
      "metadata": {
        "id": "SPNR-2msCHgl"
      },
      "source": [
        "### Machine Learning Model"
      ]
    },
    {
      "cell_type": "code",
      "execution_count": 39,
      "metadata": {
        "id": "v8humNGF9S0K"
      },
      "outputs": [],
      "source": [
        "import numpy as np\n",
        "import pandas as pd\n",
        "import seaborn as sns\n",
        "from sklearn.model_selection import train_test_split\n",
        "from sklearn import svm\n",
        "from sklearn.metrics import accuracy_score\n"
      ]
    },
    {
      "cell_type": "code",
      "execution_count": 40,
      "metadata": {
        "colab": {
          "base_uri": "https://localhost:8080/",
          "height": 206
        },
        "id": "5FKKrvVor63k",
        "outputId": "0670142e-59d7-4a9d-d334-c47bb151f931"
      },
      "outputs": [
        {
          "data": {
            "text/html": [
              "<div>\n",
              "<style scoped>\n",
              "    .dataframe tbody tr th:only-of-type {\n",
              "        vertical-align: middle;\n",
              "    }\n",
              "\n",
              "    .dataframe tbody tr th {\n",
              "        vertical-align: top;\n",
              "    }\n",
              "\n",
              "    .dataframe thead th {\n",
              "        text-align: right;\n",
              "    }\n",
              "</style>\n",
              "<table border=\"1\" class=\"dataframe\">\n",
              "  <thead>\n",
              "    <tr style=\"text-align: right;\">\n",
              "      <th></th>\n",
              "      <th>Loan_ID</th>\n",
              "      <th>Gender</th>\n",
              "      <th>Married</th>\n",
              "      <th>Dependents</th>\n",
              "      <th>Education</th>\n",
              "      <th>Self_Employed</th>\n",
              "      <th>ApplicantIncome</th>\n",
              "      <th>CoapplicantIncome</th>\n",
              "      <th>LoanAmount</th>\n",
              "      <th>Loan_Amount_Term</th>\n",
              "      <th>Credit_History</th>\n",
              "      <th>Property_Area</th>\n",
              "      <th>Loan_Status</th>\n",
              "    </tr>\n",
              "  </thead>\n",
              "  <tbody>\n",
              "    <tr>\n",
              "      <th>0</th>\n",
              "      <td>LP001002</td>\n",
              "      <td>Male</td>\n",
              "      <td>No</td>\n",
              "      <td>0</td>\n",
              "      <td>Graduate</td>\n",
              "      <td>No</td>\n",
              "      <td>5849</td>\n",
              "      <td>0.0</td>\n",
              "      <td>NaN</td>\n",
              "      <td>360.0</td>\n",
              "      <td>1.0</td>\n",
              "      <td>Urban</td>\n",
              "      <td>Y</td>\n",
              "    </tr>\n",
              "    <tr>\n",
              "      <th>1</th>\n",
              "      <td>LP001003</td>\n",
              "      <td>Male</td>\n",
              "      <td>Yes</td>\n",
              "      <td>1</td>\n",
              "      <td>Graduate</td>\n",
              "      <td>No</td>\n",
              "      <td>4583</td>\n",
              "      <td>1508.0</td>\n",
              "      <td>128.0</td>\n",
              "      <td>360.0</td>\n",
              "      <td>1.0</td>\n",
              "      <td>Rural</td>\n",
              "      <td>N</td>\n",
              "    </tr>\n",
              "    <tr>\n",
              "      <th>2</th>\n",
              "      <td>LP001005</td>\n",
              "      <td>Male</td>\n",
              "      <td>Yes</td>\n",
              "      <td>0</td>\n",
              "      <td>Graduate</td>\n",
              "      <td>Yes</td>\n",
              "      <td>3000</td>\n",
              "      <td>0.0</td>\n",
              "      <td>66.0</td>\n",
              "      <td>360.0</td>\n",
              "      <td>1.0</td>\n",
              "      <td>Urban</td>\n",
              "      <td>Y</td>\n",
              "    </tr>\n",
              "    <tr>\n",
              "      <th>3</th>\n",
              "      <td>LP001006</td>\n",
              "      <td>Male</td>\n",
              "      <td>Yes</td>\n",
              "      <td>0</td>\n",
              "      <td>Not Graduate</td>\n",
              "      <td>No</td>\n",
              "      <td>2583</td>\n",
              "      <td>2358.0</td>\n",
              "      <td>120.0</td>\n",
              "      <td>360.0</td>\n",
              "      <td>1.0</td>\n",
              "      <td>Urban</td>\n",
              "      <td>Y</td>\n",
              "    </tr>\n",
              "    <tr>\n",
              "      <th>4</th>\n",
              "      <td>LP001008</td>\n",
              "      <td>Male</td>\n",
              "      <td>No</td>\n",
              "      <td>0</td>\n",
              "      <td>Graduate</td>\n",
              "      <td>No</td>\n",
              "      <td>6000</td>\n",
              "      <td>0.0</td>\n",
              "      <td>141.0</td>\n",
              "      <td>360.0</td>\n",
              "      <td>1.0</td>\n",
              "      <td>Urban</td>\n",
              "      <td>Y</td>\n",
              "    </tr>\n",
              "  </tbody>\n",
              "</table>\n",
              "</div>"
            ],
            "text/plain": [
              "    Loan_ID Gender Married Dependents     Education Self_Employed  \\\n",
              "0  LP001002   Male      No          0      Graduate            No   \n",
              "1  LP001003   Male     Yes          1      Graduate            No   \n",
              "2  LP001005   Male     Yes          0      Graduate           Yes   \n",
              "3  LP001006   Male     Yes          0  Not Graduate            No   \n",
              "4  LP001008   Male      No          0      Graduate            No   \n",
              "\n",
              "   ApplicantIncome  CoapplicantIncome  LoanAmount  Loan_Amount_Term  \\\n",
              "0             5849                0.0         NaN             360.0   \n",
              "1             4583             1508.0       128.0             360.0   \n",
              "2             3000                0.0        66.0             360.0   \n",
              "3             2583             2358.0       120.0             360.0   \n",
              "4             6000                0.0       141.0             360.0   \n",
              "\n",
              "   Credit_History Property_Area Loan_Status  \n",
              "0             1.0         Urban           Y  \n",
              "1             1.0         Rural           N  \n",
              "2             1.0         Urban           Y  \n",
              "3             1.0         Urban           Y  \n",
              "4             1.0         Urban           Y  "
            ]
          },
          "execution_count": 40,
          "metadata": {},
          "output_type": "execute_result"
        }
      ],
      "source": [
        "# train = pd.read_csv('https://raw.githubusercontent.com/mridulrb/Predict-loan-eligibility-using-IBM-Watson-Studio/master/Dataset/train_ctrUa4K.csv')\n",
        "# # https://raw.githubusercontent.com/Kamin-At/Loan_prediction/master/data/train_ctrUa4K.csv\n",
        "train=pd.read_csv('dataset.csv')\n",
        "train.head()"
      ]
    },
    {
      "cell_type": "code",
      "execution_count": 41,
      "metadata": {
        "colab": {
          "base_uri": "https://localhost:8080/"
        },
        "id": "H62I1dqA_O2D",
        "outputId": "a5583f52-dbeb-4358-84f4-f4860e268745"
      },
      "outputs": [
        {
          "data": {
            "text/plain": [
              "(614, 13)"
            ]
          },
          "execution_count": 41,
          "metadata": {},
          "output_type": "execute_result"
        }
      ],
      "source": [
        "train.shape"
      ]
    },
    {
      "cell_type": "code",
      "execution_count": 42,
      "metadata": {
        "id": "FZNf6GKYsQCy"
      },
      "outputs": [],
      "source": [
        "train.isnull().sum()\n",
        "train = train.dropna()"
      ]
    },
    {
      "cell_type": "code",
      "execution_count": 43,
      "metadata": {
        "colab": {
          "base_uri": "https://localhost:8080/"
        },
        "id": "fjRVePxYsqtC",
        "outputId": "20c5cd19-6965-4789-8b7e-a2913782ff1f"
      },
      "outputs": [
        {
          "data": {
            "text/plain": [
              "Loan_ID              0\n",
              "Gender               0\n",
              "Married              0\n",
              "Dependents           0\n",
              "Education            0\n",
              "Self_Employed        0\n",
              "ApplicantIncome      0\n",
              "CoapplicantIncome    0\n",
              "LoanAmount           0\n",
              "Loan_Amount_Term     0\n",
              "Credit_History       0\n",
              "Property_Area        0\n",
              "Loan_Status          0\n",
              "dtype: int64"
            ]
          },
          "execution_count": 43,
          "metadata": {},
          "output_type": "execute_result"
        }
      ],
      "source": [
        "train.isnull().sum()"
      ]
    },
    {
      "cell_type": "code",
      "execution_count": 44,
      "metadata": {
        "id": "wpLZ3x8rtSQ0"
      },
      "outputs": [],
      "source": [
        "# label encoding\n",
        "train.replace({\"Loan_Status\":{'N':0,'Y':1}},inplace=True)\n",
        "train = train.replace(to_replace='3+', value=4)"
      ]
    },
    {
      "cell_type": "code",
      "execution_count": 45,
      "metadata": {
        "id": "I58OJpQAtrfY"
      },
      "outputs": [],
      "source": [
        "# convert categorical columns to numerical values\n",
        "train.replace({'Married':{'No':0,'Yes':1},'Gender':{'Male':1,'Female':0},'Self_Employed':{'No':0,'Yes':1},\n",
        "                      'Property_Area':{'Rural':0,'Semiurban':1,'Urban':2},'Education':{'Graduate':1,'Not Graduate':0}},inplace=True)"
      ]
    },
    {
      "cell_type": "code",
      "execution_count": 46,
      "metadata": {
        "colab": {
          "base_uri": "https://localhost:8080/"
        },
        "id": "NgxpzyyBtyeT",
        "outputId": "a34b05ba-f11b-4840-d95f-e60fcd3e1954"
      },
      "outputs": [
        {
          "name": "stdout",
          "output_type": "stream",
          "text": [
            "      Loan_ID  Gender  Married Dependents  Education  Self_Employed  \\\n",
            "1    LP001003       1        1          1          1              0   \n",
            "2    LP001005       1        1          0          1              1   \n",
            "3    LP001006       1        1          0          0              0   \n",
            "4    LP001008       1        0          0          1              0   \n",
            "5    LP001011       1        1          2          1              1   \n",
            "..        ...     ...      ...        ...        ...            ...   \n",
            "609  LP002978       0        0          0          1              0   \n",
            "610  LP002979       1        1          4          1              0   \n",
            "611  LP002983       1        1          1          1              0   \n",
            "612  LP002984       1        1          2          1              0   \n",
            "613  LP002990       0        0          0          1              1   \n",
            "\n",
            "     ApplicantIncome  CoapplicantIncome  LoanAmount  Loan_Amount_Term  \\\n",
            "1               4583             1508.0       128.0             360.0   \n",
            "2               3000                0.0        66.0             360.0   \n",
            "3               2583             2358.0       120.0             360.0   \n",
            "4               6000                0.0       141.0             360.0   \n",
            "5               5417             4196.0       267.0             360.0   \n",
            "..               ...                ...         ...               ...   \n",
            "609             2900                0.0        71.0             360.0   \n",
            "610             4106                0.0        40.0             180.0   \n",
            "611             8072              240.0       253.0             360.0   \n",
            "612             7583                0.0       187.0             360.0   \n",
            "613             4583                0.0       133.0             360.0   \n",
            "\n",
            "     Credit_History  Property_Area  Loan_Status  \n",
            "1               1.0              0            0  \n",
            "2               1.0              2            1  \n",
            "3               1.0              2            1  \n",
            "4               1.0              2            1  \n",
            "5               1.0              2            1  \n",
            "..              ...            ...          ...  \n",
            "609             1.0              0            1  \n",
            "610             1.0              0            1  \n",
            "611             1.0              2            1  \n",
            "612             1.0              2            1  \n",
            "613             0.0              1            0  \n",
            "\n",
            "[480 rows x 13 columns]\n"
          ]
        }
      ],
      "source": [
        "print(train)"
      ]
    },
    {
      "cell_type": "code",
      "execution_count": 47,
      "metadata": {
        "colab": {
          "base_uri": "https://localhost:8080/"
        },
        "id": "yrhfmCQcAepy",
        "outputId": "03b7142c-8f11-4e47-9fe1-8e2f17b48ec9"
      },
      "outputs": [
        {
          "data": {
            "text/plain": [
              "((480, 11), (480,))"
            ]
          },
          "execution_count": 47,
          "metadata": {},
          "output_type": "execute_result"
        }
      ],
      "source": [
        "X = train.drop(columns=['Loan_ID','Loan_Status'],axis=1)\n",
        "Y = train['Loan_Status']\n",
        "X.shape,Y.shape"
      ]
    },
    {
      "cell_type": "code",
      "execution_count": 48,
      "metadata": {
        "colab": {
          "base_uri": "https://localhost:8080/"
        },
        "id": "RibDGNn4uQ93",
        "outputId": "752ab099-fd9f-4a3e-d7ba-f0d08efdfe97"
      },
      "outputs": [
        {
          "name": "stdout",
          "output_type": "stream",
          "text": [
            "(480, 11) (432, 11) (48, 11)\n",
            "     Gender  Married Dependents  Education  Self_Employed  ApplicantIncome  \\\n",
            "122       0        0          0          1              0             2137   \n",
            "498       1        1          1          1              1             2895   \n",
            "144       1        1          2          1              0            11757   \n",
            "217       1        1          0          1              0             3727   \n",
            "362       1        1          0          1              0             4750   \n",
            "..      ...      ...        ...        ...            ...              ...   \n",
            "72        1        0          0          1              0             3500   \n",
            "390       1        0          4          1              0             9167   \n",
            "76        1        0          0          1              0             3750   \n",
            "286       0        0          0          1              1             2600   \n",
            "376       1        1          4          1              0             8750   \n",
            "\n",
            "     CoapplicantIncome  LoanAmount  Loan_Amount_Term  Credit_History  \\\n",
            "122             8980.0       137.0             360.0             0.0   \n",
            "498                0.0        95.0             360.0             1.0   \n",
            "144                0.0       187.0             180.0             1.0   \n",
            "217             1775.0       131.0             360.0             1.0   \n",
            "362             2333.0       130.0             360.0             1.0   \n",
            "..                 ...         ...               ...             ...   \n",
            "72                 0.0        81.0             300.0             1.0   \n",
            "390                0.0       185.0             360.0             1.0   \n",
            "76              4750.0       176.0             360.0             1.0   \n",
            "286             1717.0        99.0             300.0             1.0   \n",
            "376             4996.0       130.0             360.0             1.0   \n",
            "\n",
            "     Property_Area  \n",
            "122              1  \n",
            "498              1  \n",
            "144              2  \n",
            "217              1  \n",
            "362              2  \n",
            "..             ...  \n",
            "72               1  \n",
            "390              0  \n",
            "76               2  \n",
            "286              1  \n",
            "376              0  \n",
            "\n",
            "[432 rows x 11 columns]\n"
          ]
        },
        {
          "data": {
            "text/plain": [
              "pandas.core.frame.DataFrame"
            ]
          },
          "execution_count": 48,
          "metadata": {},
          "output_type": "execute_result"
        }
      ],
      "source": [
        "X_train, X_test,Y_train,Y_test = train_test_split(X,Y,test_size=0.1,stratify=Y,random_state=2)\n",
        "print(X.shape, X_train.shape, X_test.shape)\n",
        "print(X_train)\n",
        "type(X_train)"
      ]
    },
    {
      "cell_type": "code",
      "execution_count": 49,
      "metadata": {
        "id": "0T2yVX9mukUr"
      },
      "outputs": [],
      "source": [
        "classifier = svm.SVC(kernel = 'linear', C = 0.7, gamma = 0.01)"
      ]
    },
    {
      "cell_type": "code",
      "execution_count": 50,
      "metadata": {
        "colab": {
          "base_uri": "https://localhost:8080/",
          "height": 74
        },
        "id": "ewGOlrU5umPl",
        "outputId": "d9547031-66a8-4ca7-8124-b9d180568c82"
      },
      "outputs": [
        {
          "data": {
            "text/html": [
              "<style>#sk-container-id-3 {color: black;background-color: white;}#sk-container-id-3 pre{padding: 0;}#sk-container-id-3 div.sk-toggleable {background-color: white;}#sk-container-id-3 label.sk-toggleable__label {cursor: pointer;display: block;width: 100%;margin-bottom: 0;padding: 0.3em;box-sizing: border-box;text-align: center;}#sk-container-id-3 label.sk-toggleable__label-arrow:before {content: \"▸\";float: left;margin-right: 0.25em;color: #696969;}#sk-container-id-3 label.sk-toggleable__label-arrow:hover:before {color: black;}#sk-container-id-3 div.sk-estimator:hover label.sk-toggleable__label-arrow:before {color: black;}#sk-container-id-3 div.sk-toggleable__content {max-height: 0;max-width: 0;overflow: hidden;text-align: left;background-color: #f0f8ff;}#sk-container-id-3 div.sk-toggleable__content pre {margin: 0.2em;color: black;border-radius: 0.25em;background-color: #f0f8ff;}#sk-container-id-3 input.sk-toggleable__control:checked~div.sk-toggleable__content {max-height: 200px;max-width: 100%;overflow: auto;}#sk-container-id-3 input.sk-toggleable__control:checked~label.sk-toggleable__label-arrow:before {content: \"▾\";}#sk-container-id-3 div.sk-estimator input.sk-toggleable__control:checked~label.sk-toggleable__label {background-color: #d4ebff;}#sk-container-id-3 div.sk-label input.sk-toggleable__control:checked~label.sk-toggleable__label {background-color: #d4ebff;}#sk-container-id-3 input.sk-hidden--visually {border: 0;clip: rect(1px 1px 1px 1px);clip: rect(1px, 1px, 1px, 1px);height: 1px;margin: -1px;overflow: hidden;padding: 0;position: absolute;width: 1px;}#sk-container-id-3 div.sk-estimator {font-family: monospace;background-color: #f0f8ff;border: 1px dotted black;border-radius: 0.25em;box-sizing: border-box;margin-bottom: 0.5em;}#sk-container-id-3 div.sk-estimator:hover {background-color: #d4ebff;}#sk-container-id-3 div.sk-parallel-item::after {content: \"\";width: 100%;border-bottom: 1px solid gray;flex-grow: 1;}#sk-container-id-3 div.sk-label:hover label.sk-toggleable__label {background-color: #d4ebff;}#sk-container-id-3 div.sk-serial::before {content: \"\";position: absolute;border-left: 1px solid gray;box-sizing: border-box;top: 0;bottom: 0;left: 50%;z-index: 0;}#sk-container-id-3 div.sk-serial {display: flex;flex-direction: column;align-items: center;background-color: white;padding-right: 0.2em;padding-left: 0.2em;position: relative;}#sk-container-id-3 div.sk-item {position: relative;z-index: 1;}#sk-container-id-3 div.sk-parallel {display: flex;align-items: stretch;justify-content: center;background-color: white;position: relative;}#sk-container-id-3 div.sk-item::before, #sk-container-id-3 div.sk-parallel-item::before {content: \"\";position: absolute;border-left: 1px solid gray;box-sizing: border-box;top: 0;bottom: 0;left: 50%;z-index: -1;}#sk-container-id-3 div.sk-parallel-item {display: flex;flex-direction: column;z-index: 1;position: relative;background-color: white;}#sk-container-id-3 div.sk-parallel-item:first-child::after {align-self: flex-end;width: 50%;}#sk-container-id-3 div.sk-parallel-item:last-child::after {align-self: flex-start;width: 50%;}#sk-container-id-3 div.sk-parallel-item:only-child::after {width: 0;}#sk-container-id-3 div.sk-dashed-wrapped {border: 1px dashed gray;margin: 0 0.4em 0.5em 0.4em;box-sizing: border-box;padding-bottom: 0.4em;background-color: white;}#sk-container-id-3 div.sk-label label {font-family: monospace;font-weight: bold;display: inline-block;line-height: 1.2em;}#sk-container-id-3 div.sk-label-container {text-align: center;}#sk-container-id-3 div.sk-container {/* jupyter's `normalize.less` sets `[hidden] { display: none; }` but bootstrap.min.css set `[hidden] { display: none !important; }` so we also need the `!important` here to be able to override the default hidden behavior on the sphinx rendered scikit-learn.org. See: https://github.com/scikit-learn/scikit-learn/issues/21755 */display: inline-block !important;position: relative;}#sk-container-id-3 div.sk-text-repr-fallback {display: none;}</style><div id=\"sk-container-id-3\" class=\"sk-top-container\"><div class=\"sk-text-repr-fallback\"><pre>SVC(C=0.7, gamma=0.01, kernel=&#x27;linear&#x27;)</pre><b>In a Jupyter environment, please rerun this cell to show the HTML representation or trust the notebook. <br />On GitHub, the HTML representation is unable to render, please try loading this page with nbviewer.org.</b></div><div class=\"sk-container\" hidden><div class=\"sk-item\"><div class=\"sk-estimator sk-toggleable\"><input class=\"sk-toggleable__control sk-hidden--visually\" id=\"sk-estimator-id-3\" type=\"checkbox\" checked><label for=\"sk-estimator-id-3\" class=\"sk-toggleable__label sk-toggleable__label-arrow\">SVC</label><div class=\"sk-toggleable__content\"><pre>SVC(C=0.7, gamma=0.01, kernel=&#x27;linear&#x27;)</pre></div></div></div></div></div>"
            ],
            "text/plain": [
              "SVC(C=0.7, gamma=0.01, kernel='linear')"
            ]
          },
          "execution_count": 50,
          "metadata": {},
          "output_type": "execute_result"
        }
      ],
      "source": [
        "#training the support Vector Macine model\n",
        "classifier.fit(X_train,Y_train)"
      ]
    },
    {
      "cell_type": "code",
      "execution_count": 51,
      "metadata": {
        "colab": {
          "base_uri": "https://localhost:8080/"
        },
        "id": "ajViYvbtvJEx",
        "outputId": "90ec2d77-3cf7-4f01-a62c-71eb6b47b868"
      },
      "outputs": [
        {
          "name": "stdout",
          "output_type": "stream",
          "text": [
            "Accuracy on training data :  0.8032407407407407\n"
          ]
        }
      ],
      "source": [
        "# accuracy score on training data\n",
        "X_train_prediction = classifier.predict(X_train)\n",
        "training_data_accuray = accuracy_score(X_train_prediction,Y_train)\n",
        "print('Accuracy on training data : ', training_data_accuray)"
      ]
    },
    {
      "cell_type": "code",
      "execution_count": 52,
      "metadata": {
        "colab": {
          "base_uri": "https://localhost:8080/"
        },
        "id": "T2Ps42_cvX1D",
        "outputId": "ddcfa771-ec0c-4ee6-9c4f-ef9910429e28"
      },
      "outputs": [
        {
          "name": "stdout",
          "output_type": "stream",
          "text": [
            "Accuracy on test data :  0.8333333333333334\n"
          ]
        }
      ],
      "source": [
        "# accuracy score on training data\n",
        "X_test_prediction = classifier.predict(X_test)\n",
        "test_data_accuray = accuracy_score(X_test_prediction,Y_test)\n",
        "print('Accuracy on test data : ', test_data_accuray)"
      ]
    },
    {
      "cell_type": "code",
      "execution_count": 53,
      "metadata": {},
      "outputs": [
        {
          "name": "stdout",
          "output_type": "stream",
          "text": [
            "Rejected\n"
          ]
        }
      ],
      "source": [
        "prediction = classifier.predict(X_train.loc[[122]])\n",
        "     \n",
        "if prediction == 0:\n",
        "        pred = 'Rejected'\n",
        "else:\n",
        "    pred = 'Approved'\n",
        "    \n",
        "print(pred)"
      ]
    },
    {
      "cell_type": "code",
      "execution_count": 54,
      "metadata": {
        "id": "86E5jTtmAt-F"
      },
      "outputs": [],
      "source": [
        "# from sklearn.model_selection import train_test_split\n",
        "# x_train, x_test, y_train, y_test = train_test_split(X,y, test_size=0.2, random_state = 42)"
      ]
    },
    {
      "cell_type": "code",
      "execution_count": 55,
      "metadata": {
        "id": "BxbjUWzXA8S1"
      },
      "outputs": [],
      "source": [
        "# from sklearn.ensemble import RandomForestClassifier\n",
        "# from sklearn.metrics import accuracy_score\n",
        "\n",
        "# rf = RandomForestClassifier(max_depth=4,random_state=42)\n",
        "# rf.fit(x_train, y_train)\n",
        "# print(\"Accuracy : \",rf.score(x_test, y_test))"
      ]
    },
    {
      "cell_type": "code",
      "execution_count": 56,
      "metadata": {
        "id": "E26w_SYDBUEL"
      },
      "outputs": [],
      "source": [
        "# y_pred = rf.predict(x_test)"
      ]
    },
    {
      "cell_type": "code",
      "execution_count": 57,
      "metadata": {
        "id": "pat-l0KeBkR-"
      },
      "outputs": [],
      "source": [
        "import pickle\n",
        "pickle_out = open(\"classifier.pkl\", mode = \"wb\")\n",
        "pickle.dump(classifier, pickle_out)\n",
        "pickle_out.close()"
      ]
    },
    {
      "cell_type": "markdown",
      "metadata": {
        "id": "Cjz1GQw8CDZZ"
      },
      "source": [
        "### Create Web app"
      ]
    },
    {
      "cell_type": "code",
      "execution_count": 58,
      "metadata": {
        "colab": {
          "base_uri": "https://localhost:8080/"
        },
        "id": "dCrbSslWBwYp",
        "outputId": "0f6624b9-870c-436b-b367-13dc742ced0d"
      },
      "outputs": [],
      "source": [
        "# pip install pyngrok\n",
        "\n",
        "# pip install streamlit\n",
        "\n",
        "# pip install streamlit_ace"
      ]
    },
    {
      "cell_type": "code",
      "execution_count": 59,
      "metadata": {
        "colab": {
          "base_uri": "https://localhost:8080/"
        },
        "id": "ygfSQOXZCAmq",
        "outputId": "0527d00c-af09-4c94-8ed2-05b7fd42007e"
      },
      "outputs": [],
      "source": [
        "# %%writefile app.py\n",
        " \n",
        "# import pickle\n",
        "# import streamlit as st\n",
        " \n",
        "# # loading the trained model\n",
        "# pickle_in = open('classifier.pkl', 'rb') \n",
        "# classifier = pickle.load(pickle_in)\n",
        " \n",
        "# @st.cache()\n",
        "  \n",
        "# # defining the function which will make the prediction using the data which the user inputs \n",
        "# def prediction(Gender, Married, ApplicantIncome, LoanAmount, Credit_History):   \n",
        " \n",
        "#     # Pre-processing user input    \n",
        "#     if Gender == \"Male\":\n",
        "#         Gender = 0\n",
        "#     else:\n",
        "#         Gender = 1\n",
        " \n",
        "#     if Married == \"Unmarried\":\n",
        "#         Married = 0\n",
        "#     else:\n",
        "#         Married = 1\n",
        " \n",
        "#     if Credit_History == \"Unclear Debts\":\n",
        "#         Credit_History = 0\n",
        "#     else:\n",
        "#         Credit_History = 1  \n",
        " \n",
        "#     LoanAmount = LoanAmount / 1000\n",
        " \n",
        "#     # Making predictions \n",
        "#     prediction = classifier.predict( \n",
        "#         [[Gender, Married, ApplicantIncome, LoanAmount, Credit_History]])\n",
        "     \n",
        "#     if prediction == 0:\n",
        "#         pred = 'Rejected'\n",
        "#     else:\n",
        "#         pred = 'Approved'\n",
        "#     return pred\n",
        "      \n",
        "  \n",
        "# # this is the main function in which we define our webpage  \n",
        "# def main():       \n",
        "#     # front end elements of the web page \n",
        "#     html_temp = \"\"\" \n",
        "#     <div style =\"background-color:yellow;padding:13px\"> \n",
        "#     <h1 style =\"color:black;text-align:center;\">Streamlit Loan Prediction ML App</h1> \n",
        "#     </div> \n",
        "#     \"\"\"\n",
        "      \n",
        "#     # display the front end aspect\n",
        "#     st.markdown(html_temp, unsafe_allow_html = True) \n",
        "      \n",
        "#     # following lines create boxes in which user can enter data required to make prediction \n",
        "#     Gender = st.selectbox('Gender',(\"Male\",\"Female\"))\n",
        "#     Married = st.selectbox('Marital Status',(\"Unmarried\",\"Married\")) \n",
        "#     ApplicantIncome = st.number_input(\"Applicants monthly income\") \n",
        "#     LoanAmount = st.number_input(\"Total loan amount\")\n",
        "#     Credit_History = st.selectbox('Credit_History',(\"Unclear Debts\",\"No Unclear Debts\"))\n",
        "#     result =\"\"\n",
        "      \n",
        "#     # when 'Predict' is clicked, make the prediction and store it \n",
        "#     if st.button(\"Predict\"): \n",
        "#         result = prediction(Gender, Married, ApplicantIncome, LoanAmount, Credit_History) \n",
        "#         st.success('Your loan is {}'.format(result))\n",
        "#         print(LoanAmount)\n",
        "     \n",
        "# if __name__=='__main__': \n",
        "#     main()"
      ]
    },
    {
      "cell_type": "code",
      "execution_count": 60,
      "metadata": {
        "id": "J1KZQqOMFEaz"
      },
      "outputs": [],
      "source": [
        "# !streamlit run app.py &>/dev/null&"
      ]
    },
    {
      "cell_type": "code",
      "execution_count": 61,
      "metadata": {
        "colab": {
          "base_uri": "https://localhost:8080/",
          "height": 449
        },
        "id": "C7TihSjdF-uX",
        "outputId": "bc7c7ada-322c-4f1b-a950-bd81382b6835"
      },
      "outputs": [],
      "source": [
        "# from pyngrok import ngrok\n",
        " \n",
        "# public_url = ngrok.connect('8500')\n",
        "# public_url"
      ]
    }
  ],
  "metadata": {
    "colab": {
      "name": "Automatic Loan Prediction.ipynb",
      "provenance": []
    },
    "kernelspec": {
      "display_name": "Python 3",
      "name": "python3"
    },
    "language_info": {
      "codemirror_mode": {
        "name": "ipython",
        "version": 3
      },
      "file_extension": ".py",
      "mimetype": "text/x-python",
      "name": "python",
      "nbconvert_exporter": "python",
      "pygments_lexer": "ipython3",
      "version": "3.9.4"
    }
  },
  "nbformat": 4,
  "nbformat_minor": 0
}
